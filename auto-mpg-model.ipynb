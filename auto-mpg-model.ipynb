{
 "cells": [
  {
   "cell_type": "markdown",
   "metadata": {
    "id": "w-6uGw1PUHNt"
   },
   "source": [
    "# Auto-mobile MPG prediction model"
   ]
  },
  {
   "cell_type": "markdown",
   "metadata": {
    "id": "A5Ba5fs_UQl9"
   },
   "source": [
    "## 1. Problem Description\n",
    "\n",
    "The basic idea of analysing the Auto mpg dataset is to get a fair idea about the factors affecting the aggregate fuel consumption of each car.\n",
    "\n",
    "Cars of different variants of different models of various Car manufacturing companies from origin countries such as USA, Japan and Europe.\n",
    "\n",
    "Fuel consumption of car is affected by various factors such as Model year, Horsepower, Number of Cylinders present, displacement, Weight and Acceleration of the car.\n",
    "\n",
    "We need to find which factors mostly affect the Fuel consumption of a car in order to improve the mpg value.\n",
    "\n",
    "Hence build a model to predict the mpg value of each car.\n",
    "\n",
    "### Features on data set\n",
    "\n",
    "**cylinders**: contains the number of cylinders present in the car\n",
    "\n",
    "**displacement**: contains the Displacement of the car\n",
    "\n",
    "**horsepower**: contains the Horsepower of the car\n",
    "\n",
    "**weight**: contains the weight of the car\n",
    "\n",
    "**acceleration**: contains the Acceleration of the car\n",
    "\n",
    "**model_year**: contains the model year of the car\n",
    "\n",
    "**origin**: contains the origin country which car belong to\n",
    "\n",
    "**car_name**: contains the name of the car(Brand-Model-Variant)\n",
    "### Target Variable\n",
    "\n",
    "**mpg**: contains the fuel consumption value(in Miles per Gallon) for car\n",
    "### Model description\n",
    "\n",
    "- Numpy, Pandas, Matplotlib, Seaborn libraries have been used for Data Cleaning, Exploratory Data Analysis, and Data Visualization.\n",
    "\n",
    "- Categorical Features are encoded using OneHotEncoder and LabelEncoder.\n",
    "\n",
    "- Feature Scaling, and Feature Selection Techniques have been performed.\n",
    "\n",
    "- Linear Regression, Support Vector Regressor, Random forest Regressor, Gradient boosting Regressor model have been used to predict the mpg values.\n",
    "\n",
    "- **Accuracy score: 91%** using **Random Forest Regressor**.\n"
   ]
  },
  {
   "cell_type": "markdown",
   "metadata": {
    "id": "Gd2cF6VzUnCw"
   },
   "source": [
    "## 2. Data cleaning and Manipulation"
   ]
  },
  {
   "cell_type": "code",
   "execution_count": 60,
   "metadata": {
    "executionInfo": {
     "elapsed": 321,
     "status": "ok",
     "timestamp": 1731756893185,
     "user": {
      "displayName": "Mohamed Lifa",
      "userId": "01831654234949379749"
     },
     "user_tz": -60
    },
    "id": "HK_hLZshUsL_"
   },
   "outputs": [],
   "source": [
    "import numpy as np\n",
    "import pandas as pd\n",
    "import matplotlib.pyplot as plt\n",
    "from sklearn import linear_model\n",
    "from sklearn.model_selection import train_test_split\n",
    "from sklearn.metrics import r2_score\n",
    "import seaborn as sns\n",
    "from sklearn.preprocessing import StandardScaler"
   ]
  },
  {
   "cell_type": "markdown",
   "metadata": {
    "id": "5YmtkyRlXau6"
   },
   "source": [
    "The following dataset does not have column names provided to us. We need to provide the column names to it."
   ]
  },
  {
   "cell_type": "code",
   "execution_count": 88,
   "metadata": {
    "colab": {
     "base_uri": "https://localhost:8080/"
    },
    "collapsed": true,
    "executionInfo": {
     "elapsed": 65,
     "status": "ok",
     "timestamp": 1731756210035,
     "user": {
      "displayName": "Mohamed Lifa",
      "userId": "01831654234949379749"
     },
     "user_tz": -60
    },
    "id": "L2NlJ4jcXbmF",
    "outputId": "0792034b-e628-454c-bdcd-5d1842e8448a"
   },
   "outputs": [
    {
     "name": "stdout",
     "output_type": "stream",
     "text": [
      "(398, 9)\n",
      "mpg             float64\n",
      "cylinders         int64\n",
      "displacement    float64\n",
      "horsepower       object\n",
      "weight            int64\n",
      "acceleration    float64\n",
      "model year        int64\n",
      "origin            int64\n",
      "car name         object\n",
      "dtype: object\n"
     ]
    }
   ],
   "source": [
    "df = pd.read_csv(\"./auto-mpg.csv\")\n",
    "print(df.shape)\n",
    "print(df.dtypes)"
   ]
  },
  {
   "cell_type": "markdown",
   "metadata": {
    "id": "hX8SLu3ubFmq"
   },
   "source": [
    "all columns looks fine execpt the horsepower has the data type of object(string)"
   ]
  },
  {
   "cell_type": "code",
   "execution_count": 62,
   "metadata": {
    "colab": {
     "base_uri": "https://localhost:8080/"
    },
    "executionInfo": {
     "elapsed": 59,
     "status": "ok",
     "timestamp": 1731756210035,
     "user": {
      "displayName": "Mohamed Lifa",
      "userId": "01831654234949379749"
     },
     "user_tz": -60
    },
    "id": "08MYYrH_bjz5",
    "outputId": "b2a23dc6-a614-41b3-d2c7-8d6f9ee26c85"
   },
   "outputs": [
    {
     "data": {
      "text/plain": [
       "np.int64(0)"
      ]
     },
     "execution_count": 62,
     "metadata": {},
     "output_type": "execute_result"
    }
   ],
   "source": [
    "df['horsepower'].isnull().sum()"
   ]
  },
  {
   "cell_type": "markdown",
   "metadata": {
    "id": "9bsojF4ycDJ-"
   },
   "source": [
    "so horsepower does not have any missing values or null values. We would however like to check what all horsepower assumes!"
   ]
  },
  {
   "cell_type": "code",
   "execution_count": 63,
   "metadata": {
    "colab": {
     "base_uri": "https://localhost:8080/"
    },
    "executionInfo": {
     "elapsed": 49,
     "status": "ok",
     "timestamp": 1731756210035,
     "user": {
      "displayName": "Mohamed Lifa",
      "userId": "01831654234949379749"
     },
     "user_tz": -60
    },
    "id": "feCdi7h8cJle",
    "outputId": "542ea40e-5bd7-4c8a-a42b-2b60705e2dc3"
   },
   "outputs": [
    {
     "data": {
      "text/plain": [
       "array(['130', '165', '150', '140', '198', '220', '215', '225', '190',\n",
       "       '170', '160', '95', '97', '85', '88', '46', '87', '90', '113',\n",
       "       '200', '210', '193', '?', '100', '105', '175', '153', '180', '110',\n",
       "       '72', '86', '70', '76', '65', '69', '60', '80', '54', '208', '155',\n",
       "       '112', '92', '145', '137', '158', '167', '94', '107', '230', '49',\n",
       "       '75', '91', '122', '67', '83', '78', '52', '61', '93', '148',\n",
       "       '129', '96', '71', '98', '115', '53', '81', '79', '120', '152',\n",
       "       '102', '108', '68', '58', '149', '89', '63', '48', '66', '139',\n",
       "       '103', '125', '133', '138', '135', '142', '77', '62', '132', '84',\n",
       "       '64', '74', '116', '82'], dtype=object)"
      ]
     },
     "execution_count": 63,
     "metadata": {},
     "output_type": "execute_result"
    }
   ],
   "source": [
    "df['horsepower'].unique()"
   ]
  },
  {
   "cell_type": "markdown",
   "metadata": {
    "id": "dJ8famzMcph3"
   },
   "source": [
    "We discovered that the missing values in the horsepower column are represented by the symbol `'?'`. This is causing pandas to interpret the column as an object datatype instead of a numeric one, which can complicate analysis.\n",
    "\n",
    "\n",
    "### Approaches to Handle Missing Values\n",
    "\n",
    "There are several ways to handle missing values in a dataset, especially when they are represented by symbols or non-numeric values.\n",
    "1. ### Drop Missing Values:\n",
    "  - **When to Use**: This method works well if the missing values represent a small portion of the dataset and can be safely discarded.\n",
    "  - **Example**:\n",
    "  ```python\n",
    "  df = df.dropna()  # Drops rows with any missing values\n",
    "  ```\n",
    "2. ### Imputation with Statistical Values:\n",
    "  - **Mean Imputation**: Replace missing values with the mean. Suitable when the data is roughly normally distributed.\n",
    "  ```python\n",
    "  df['column'].fillna(df['column'].mean(), inplace=True)\n",
    "  ```\n",
    "  - **Median Imputation**: Replace missing values with the median. Preferred when the data has outliers, as the median is less affected by extreme values.\n",
    "  ```python\n",
    "  df['column'].fillna(df['column'].median(), inplace=True)\n",
    "  ```\n",
    "\n",
    "In this dataset, we'll use median imputation to fill in missing values for horsepower, as it is resistant to outliers and provides a more robust estimate than the mean."
   ]
  },
  {
   "cell_type": "markdown",
   "metadata": {
    "id": "y8AcaANGkBE2"
   },
   "source": [
    "italicized text# Implementation\n",
    "1. **Replace `'?'` with `NaN`**:\n",
    "First, we'll replace the `'?'` symbol in the dataset with `NaN` so pandas can recognize it as a missing value.\n",
    "2. **Convert Columns to Numeric Types**: This allows pandas to treat columns as numeric, handling `NaN` properly.\n",
    "3. **Fill Missing Values with the Median**: For each numeric column with missing values, we'll use median imputation."
   ]
  },
  {
   "cell_type": "code",
   "execution_count": 64,
   "metadata": {
    "colab": {
     "base_uri": "https://localhost:8080/"
    },
    "collapsed": true,
    "executionInfo": {
     "elapsed": 37,
     "status": "ok",
     "timestamp": 1731756210035,
     "user": {
      "displayName": "Mohamed Lifa",
      "userId": "01831654234949379749"
     },
     "user_tz": -60
    },
    "id": "sjpcq9tYkw3E",
    "outputId": "5b2d1bc0-3d9b-42b8-fa7b-ba60216a6ae6"
   },
   "outputs": [
    {
     "name": "stdout",
     "output_type": "stream",
     "text": [
      "0\n"
     ]
    }
   ],
   "source": [
    "# Step 1: Replace '?' with NaN\n",
    "df['horsepower'] = df['horsepower'].replace('?', np.nan)\n",
    "\n",
    "# Step 2: Convert horsepower to numeric, with errors='coerce' to handle NaN\n",
    "df['horsepower'] = pd.to_numeric(df['horsepower'], errors='coerce')\n",
    "\n",
    "# Step 3: Fill missing values in horsepower with the median\n",
    "df['horsepower'] = df['horsepower'].fillna(df['horsepower'].median())\n",
    "\n",
    "# Verify that there are no remaining missing values in horsepower\n",
    "print(df['horsepower'].isnull().sum())"
   ]
  },
  {
   "cell_type": "code",
   "execution_count": 65,
   "metadata": {
    "colab": {
     "base_uri": "https://localhost:8080/"
    },
    "collapsed": true,
    "executionInfo": {
     "elapsed": 31,
     "status": "ok",
     "timestamp": 1731756210036,
     "user": {
      "displayName": "Mohamed Lifa",
      "userId": "01831654234949379749"
     },
     "user_tz": -60
    },
    "id": "VW5FuPXMmz9Q",
    "outputId": "dda691af-9394-4529-edd9-86cd4322541e"
   },
   "outputs": [
    {
     "name": "stdout",
     "output_type": "stream",
     "text": [
      "<class 'pandas.core.frame.DataFrame'>\n",
      "RangeIndex: 398 entries, 0 to 397\n",
      "Data columns (total 9 columns):\n",
      " #   Column        Non-Null Count  Dtype  \n",
      "---  ------        --------------  -----  \n",
      " 0   mpg           398 non-null    float64\n",
      " 1   cylinders     398 non-null    int64  \n",
      " 2   displacement  398 non-null    float64\n",
      " 3   horsepower    398 non-null    float64\n",
      " 4   weight        398 non-null    int64  \n",
      " 5   acceleration  398 non-null    float64\n",
      " 6   model year    398 non-null    int64  \n",
      " 7   origin        398 non-null    int64  \n",
      " 8   car name      398 non-null    object \n",
      "dtypes: float64(4), int64(4), object(1)\n",
      "memory usage: 28.1+ KB\n"
     ]
    }
   ],
   "source": [
    "df.info()"
   ]
  },
  {
   "cell_type": "markdown",
   "metadata": {
    "id": "GOTuYOZOn92M"
   },
   "source": [
    "the `car name` is object value and we don't need this because it does't help the model, we gonna drop this column"
   ]
  },
  {
   "cell_type": "code",
   "execution_count": 66,
   "metadata": {
    "executionInfo": {
     "elapsed": 25,
     "status": "ok",
     "timestamp": 1731756210036,
     "user": {
      "displayName": "Mohamed Lifa",
      "userId": "01831654234949379749"
     },
     "user_tz": -60
    },
    "id": "tZSUhZF-oMLB"
   },
   "outputs": [],
   "source": [
    "df = df.drop([\"car name\"], axis=1)"
   ]
  },
  {
   "cell_type": "markdown",
   "metadata": {
    "id": "8BYbaAcyjoQK"
   },
   "source": [
    "The `origin` column in the Auto MPG dataset typically contains integer values representing the geographical origin of the vehicles:\n",
    "\n",
    "- 1: USA\n",
    "- 2: Europe\n",
    "- 3: Asia\n",
    "\n",
    "let's encode the origin column with **One-Hot Encoding**\n"
   ]
  },
  {
   "cell_type": "code",
   "execution_count": 67,
   "metadata": {
    "colab": {
     "base_uri": "https://localhost:8080/",
     "height": 206
    },
    "executionInfo": {
     "elapsed": 25,
     "status": "ok",
     "timestamp": 1731756210036,
     "user": {
      "displayName": "Mohamed Lifa",
      "userId": "01831654234949379749"
     },
     "user_tz": -60
    },
    "id": "PbBmUb7ikEUj",
    "outputId": "bcef683e-106d-4b8d-c018-772478e6eb86"
   },
   "outputs": [
    {
     "data": {
      "text/html": [
       "<div>\n",
       "<style scoped>\n",
       "    .dataframe tbody tr th:only-of-type {\n",
       "        vertical-align: middle;\n",
       "    }\n",
       "\n",
       "    .dataframe tbody tr th {\n",
       "        vertical-align: top;\n",
       "    }\n",
       "\n",
       "    .dataframe thead th {\n",
       "        text-align: right;\n",
       "    }\n",
       "</style>\n",
       "<table border=\"1\" class=\"dataframe\">\n",
       "  <thead>\n",
       "    <tr style=\"text-align: right;\">\n",
       "      <th></th>\n",
       "      <th>mpg</th>\n",
       "      <th>cylinders</th>\n",
       "      <th>displacement</th>\n",
       "      <th>horsepower</th>\n",
       "      <th>weight</th>\n",
       "      <th>acceleration</th>\n",
       "      <th>model year</th>\n",
       "      <th>origin_1</th>\n",
       "      <th>origin_2</th>\n",
       "      <th>origin_3</th>\n",
       "    </tr>\n",
       "  </thead>\n",
       "  <tbody>\n",
       "    <tr>\n",
       "      <th>0</th>\n",
       "      <td>18.0</td>\n",
       "      <td>8</td>\n",
       "      <td>307.0</td>\n",
       "      <td>130.0</td>\n",
       "      <td>3504</td>\n",
       "      <td>12.0</td>\n",
       "      <td>70</td>\n",
       "      <td>True</td>\n",
       "      <td>False</td>\n",
       "      <td>False</td>\n",
       "    </tr>\n",
       "    <tr>\n",
       "      <th>1</th>\n",
       "      <td>15.0</td>\n",
       "      <td>8</td>\n",
       "      <td>350.0</td>\n",
       "      <td>165.0</td>\n",
       "      <td>3693</td>\n",
       "      <td>11.5</td>\n",
       "      <td>70</td>\n",
       "      <td>True</td>\n",
       "      <td>False</td>\n",
       "      <td>False</td>\n",
       "    </tr>\n",
       "    <tr>\n",
       "      <th>2</th>\n",
       "      <td>18.0</td>\n",
       "      <td>8</td>\n",
       "      <td>318.0</td>\n",
       "      <td>150.0</td>\n",
       "      <td>3436</td>\n",
       "      <td>11.0</td>\n",
       "      <td>70</td>\n",
       "      <td>True</td>\n",
       "      <td>False</td>\n",
       "      <td>False</td>\n",
       "    </tr>\n",
       "    <tr>\n",
       "      <th>3</th>\n",
       "      <td>16.0</td>\n",
       "      <td>8</td>\n",
       "      <td>304.0</td>\n",
       "      <td>150.0</td>\n",
       "      <td>3433</td>\n",
       "      <td>12.0</td>\n",
       "      <td>70</td>\n",
       "      <td>True</td>\n",
       "      <td>False</td>\n",
       "      <td>False</td>\n",
       "    </tr>\n",
       "    <tr>\n",
       "      <th>4</th>\n",
       "      <td>17.0</td>\n",
       "      <td>8</td>\n",
       "      <td>302.0</td>\n",
       "      <td>140.0</td>\n",
       "      <td>3449</td>\n",
       "      <td>10.5</td>\n",
       "      <td>70</td>\n",
       "      <td>True</td>\n",
       "      <td>False</td>\n",
       "      <td>False</td>\n",
       "    </tr>\n",
       "  </tbody>\n",
       "</table>\n",
       "</div>"
      ],
      "text/plain": [
       "    mpg  cylinders  displacement  horsepower  weight  acceleration  \\\n",
       "0  18.0          8         307.0       130.0    3504          12.0   \n",
       "1  15.0          8         350.0       165.0    3693          11.5   \n",
       "2  18.0          8         318.0       150.0    3436          11.0   \n",
       "3  16.0          8         304.0       150.0    3433          12.0   \n",
       "4  17.0          8         302.0       140.0    3449          10.5   \n",
       "\n",
       "   model year  origin_1  origin_2  origin_3  \n",
       "0          70      True     False     False  \n",
       "1          70      True     False     False  \n",
       "2          70      True     False     False  \n",
       "3          70      True     False     False  \n",
       "4          70      True     False     False  "
      ]
     },
     "execution_count": 67,
     "metadata": {},
     "output_type": "execute_result"
    }
   ],
   "source": [
    "df_encoded = pd.get_dummies(df, columns=[\"origin\"], prefix=\"origin\")\n",
    "# dummy_columns = [col for col in df_encoded.columns if col.startswith(\"origin_\")]\n",
    "# df_encoded[dummy_columns] = df_encoded[dummy_columns].astype(int)\n",
    "df = df_encoded\n",
    "df.head()"
   ]
  },
  {
   "cell_type": "markdown",
   "metadata": {
    "id": "Y75wMHaDnj5g"
   },
   "source": [
    "\n",
    "None of the other columns have a null value, let us look at some of the basic statistics of each numeric column in the dataframe"
   ]
  },
  {
   "cell_type": "markdown",
   "metadata": {
    "id": "Dd7yRqpeoA5a"
   },
   "source": [
    "## 3. Exploratory Analysis\n",
    "\n",
    "The goal of our problem is to successfully predict mpg. Let us look at the mpg column in more detail."
   ]
  },
  {
   "cell_type": "code",
   "execution_count": 68,
   "metadata": {
    "colab": {
     "base_uri": "https://localhost:8080/",
     "height": 335
    },
    "executionInfo": {
     "elapsed": 21,
     "status": "ok",
     "timestamp": 1731756210037,
     "user": {
      "displayName": "Mohamed Lifa",
      "userId": "01831654234949379749"
     },
     "user_tz": -60
    },
    "id": "B4p5ymoToEaM",
    "outputId": "015c486b-8d7c-47ea-9af1-341c17b89d8d"
   },
   "outputs": [
    {
     "data": {
      "text/plain": [
       "count    398.000000\n",
       "mean      23.514573\n",
       "std        7.815984\n",
       "min        9.000000\n",
       "25%       17.500000\n",
       "50%       23.000000\n",
       "75%       29.000000\n",
       "max       46.600000\n",
       "Name: mpg, dtype: float64"
      ]
     },
     "execution_count": 68,
     "metadata": {},
     "output_type": "execute_result"
    }
   ],
   "source": [
    "df[\"mpg\"].describe()"
   ]
  },
  {
   "cell_type": "markdown",
   "metadata": {
    "id": "bsGzJYAEoiB3"
   },
   "source": [
    "the value of the mpg is between [9, 46.6] with a mean of 23.51 and varies by 7.8 the median 23 is quite close to the mean."
   ]
  },
  {
   "cell_type": "code",
   "execution_count": 69,
   "metadata": {
    "colab": {
     "base_uri": "https://localhost:8080/",
     "height": 524
    },
    "executionInfo": {
     "elapsed": 320,
     "status": "ok",
     "timestamp": 1731756210339,
     "user": {
      "displayName": "Mohamed Lifa",
      "userId": "01831654234949379749"
     },
     "user_tz": -60
    },
    "id": "cY3jqT74q1iw",
    "outputId": "b7fe68f2-5030-41db-8086-e0375f2f0101"
   },
   "outputs": [
    {
     "data": {
      "text/plain": [
       "<seaborn.axisgrid.FacetGrid at 0x77dce424fa40>"
      ]
     },
     "execution_count": 69,
     "metadata": {},
     "output_type": "execute_result"
    },
    {
     "data": {
      "image/png": "[encoded data removed]",
      "text/plain": [
       "<Figure size 500x500 with 1 Axes>"
      ]
     },
     "metadata": {},
     "output_type": "display_data"
    }
   ],
   "source": [
    "sns.displot(df['mpg'])"
   ]
  },
  {
   "cell_type": "markdown",
   "metadata": {
    "id": "G0rW9z2ptD7-"
   },
   "source": [
    "\n",
    "Let us take a look at how mpg changes with respect to year i.e. have cars become more efficient over the years?"
   ]
  },
  {
   "cell_type": "code",
   "execution_count": 70,
   "metadata": {
    "colab": {
     "base_uri": "https://localhost:8080/",
     "height": 466
    },
    "executionInfo": {
     "elapsed": 365,
     "status": "ok",
     "timestamp": 1731756210693,
     "user": {
      "displayName": "Mohamed Lifa",
      "userId": "01831654234949379749"
     },
     "user_tz": -60
    },
    "id": "6aqI0nMvtH54",
    "outputId": "72fede3b-d1a5-4bdf-e2c7-19850fbc85f1"
   },
   "outputs": [
    {
     "data": {
      "text/plain": [
       "<Axes: xlabel='model year', ylabel='mpg'>"
      ]
     },
     "execution_count": 70,
     "metadata": {},
     "output_type": "execute_result"
    },
    {
     "data": {
      "image/png": "[encoded data removed]",
      "text/plain": [
       "<Figure size 640x480 with 1 Axes>"
      ]
     },
     "metadata": {},
     "output_type": "display_data"
    }
   ],
   "source": [
    "sns.boxplot(x='model year', y='mpg', data=df)"
   ]
  },
  {
   "cell_type": "markdown",
   "metadata": {
    "id": "SvD8r2uIxC6W"
   },
   "source": [
    "\n",
    "We notice that cars have indeed become more efficient as time has passed. A reasonable assumption since technology advanced and made manufacturing of more efficient engines possible.\n",
    "\n",
    "In the 80s, the median mpg is more than the 75 percentile of all previous years vehicles."
   ]
  },
  {
   "cell_type": "markdown",
   "metadata": {
    "id": "3tgXQEo3xFuh"
   },
   "source": [
    "\n",
    "We can also explore how mpg and acceleration varies with the number of cylinders."
   ]
  },
  {
   "cell_type": "code",
   "execution_count": 71,
   "metadata": {
    "colab": {
     "base_uri": "https://localhost:8080/",
     "height": 324
    },
    "executionInfo": {
     "elapsed": 2230,
     "status": "ok",
     "timestamp": 1731756212918,
     "user": {
      "displayName": "Mohamed Lifa",
      "userId": "01831654234949379749"
     },
     "user_tz": -60
    },
    "id": "B4Rc3CDpxNIN",
    "outputId": "db8b9681-7503-41d2-9b9f-9a9fa5751a8d"
   },
   "outputs": [
    {
     "data": {
      "text/plain": [
       "<seaborn.axisgrid.FacetGrid at 0x77dce363a120>"
      ]
     },
     "execution_count": 71,
     "metadata": {},
     "output_type": "execute_result"
    },
    {
     "data": {
      "image/png": "[encoded data removed]",
      "text/plain": [
       "<Figure size 1511.11x300 with 5 Axes>"
      ]
     },
     "metadata": {},
     "output_type": "display_data"
    }
   ],
   "source": [
    "g = sns.FacetGrid(data=df, col='cylinders')\n",
    "g.map(plt.scatter, 'mpg','acceleration').add_legend()"
   ]
  },
  {
   "cell_type": "code",
   "execution_count": 72,
   "metadata": {
    "colab": {
     "base_uri": "https://localhost:8080/",
     "height": 524
    },
    "executionInfo": {
     "elapsed": 13,
     "status": "ok",
     "timestamp": 1731756212918,
     "user": {
      "displayName": "Mohamed Lifa",
      "userId": "01831654234949379749"
     },
     "user_tz": -60
    },
    "id": "OSWl6ZKRyIze",
    "outputId": "54aa69f1-b8d4-4e3e-a45f-f3e6d4c97934"
   },
   "outputs": [
    {
     "data": {
      "text/plain": [
       "<seaborn.axisgrid.FacetGrid at 0x77dce413a7e0>"
      ]
     },
     "execution_count": 72,
     "metadata": {},
     "output_type": "execute_result"
    },
    {
     "data": {
      "image/png": "[encoded data removed]",
      "text/plain": [
       "<Figure size 500x500 with 1 Axes>"
      ]
     },
     "metadata": {},
     "output_type": "display_data"
    }
   ],
   "source": [
    "sns.displot(df['acceleration'])"
   ]
  },
  {
   "cell_type": "markdown",
   "metadata": {
    "id": "vJ247vmDyf-Y"
   },
   "source": [
    "\n",
    "The distribution of acceleration follows the normal distribution."
   ]
  },
  {
   "cell_type": "code",
   "execution_count": 73,
   "metadata": {
    "colab": {
     "base_uri": "https://localhost:8080/",
     "height": 523
    },
    "executionInfo": {
     "elapsed": 325,
     "status": "ok",
     "timestamp": 1731756213233,
     "user": {
      "displayName": "Mohamed Lifa",
      "userId": "01831654234949379749"
     },
     "user_tz": -60
    },
    "id": "CkHzmNVByTcW",
    "outputId": "2aaa2109-6e95-4d28-c4ce-9b49c8cb308a"
   },
   "outputs": [
    {
     "data": {
      "text/plain": [
       "<seaborn.axisgrid.FacetGrid at 0x77dce35521b0>"
      ]
     },
     "execution_count": 73,
     "metadata": {},
     "output_type": "execute_result"
    },
    {
     "data": {
      "image/png": "[encoded data removed]",
      "text/plain": [
       "<Figure size 500x500 with 1 Axes>"
      ]
     },
     "metadata": {},
     "output_type": "display_data"
    }
   ],
   "source": [
    "sns.displot(df['cylinders'])"
   ]
  },
  {
   "cell_type": "markdown",
   "metadata": {
    "id": "msNWDEE0ylCL"
   },
   "source": [
    "\n",
    "We notice that the distribution for cylinders is very discrete! Most cars either have 4 cylinders followed by 8 and then 6."
   ]
  },
  {
   "cell_type": "code",
   "execution_count": 74,
   "metadata": {
    "colab": {
     "base_uri": "https://localhost:8080/",
     "height": 523
    },
    "executionInfo": {
     "elapsed": 401,
     "status": "ok",
     "timestamp": 1731756213626,
     "user": {
      "displayName": "Mohamed Lifa",
      "userId": "01831654234949379749"
     },
     "user_tz": -60
    },
    "id": "XBQhP40Ty0g3",
    "outputId": "3dbfe486-c22f-437c-8a13-d35159989468"
   },
   "outputs": [
    {
     "data": {
      "text/plain": [
       "<seaborn.axisgrid.FacetGrid at 0x77dce331a7e0>"
      ]
     },
     "execution_count": 74,
     "metadata": {},
     "output_type": "execute_result"
    },
    {
     "data": {
      "image/png": "[encoded data removed]",
      "text/plain": [
       "<Figure size 500x500 with 1 Axes>"
      ]
     },
     "metadata": {},
     "output_type": "display_data"
    }
   ],
   "source": [
    "# df[\"displacement\"].describe()\n",
    "sns.displot(df['displacement'])"
   ]
  },
  {
   "cell_type": "code",
   "execution_count": 75,
   "metadata": {
    "colab": {
     "base_uri": "https://localhost:8080/",
     "height": 523
    },
    "executionInfo": {
     "elapsed": 506,
     "status": "ok",
     "timestamp": 1731756214124,
     "user": {
      "displayName": "Mohamed Lifa",
      "userId": "01831654234949379749"
     },
     "user_tz": -60
    },
    "id": "fcdCmz9V2a-l",
    "outputId": "82c30aae-b510-4e1e-f3b8-c0db0261c62b"
   },
   "outputs": [
    {
     "data": {
      "text/plain": [
       "<seaborn.axisgrid.FacetGrid at 0x77dce75869c0>"
      ]
     },
     "execution_count": 75,
     "metadata": {},
     "output_type": "execute_result"
    },
    {
     "data": {
      "image/png": "[encoded data removed]",
      "text/plain": [
       "<Figure size 500x500 with 1 Axes>"
      ]
     },
     "metadata": {},
     "output_type": "display_data"
    }
   ],
   "source": [
    "sns.displot(df['weight'])"
   ]
  },
  {
   "cell_type": "markdown",
   "metadata": {
    "id": "nsd_2yub2e5b"
   },
   "source": [
    "\n",
    "The distribution for weight is also right skewed."
   ]
  },
  {
   "cell_type": "code",
   "execution_count": 76,
   "metadata": {
    "colab": {
     "base_uri": "https://localhost:8080/",
     "height": 523
    },
    "executionInfo": {
     "elapsed": 358,
     "status": "ok",
     "timestamp": 1731756214478,
     "user": {
      "displayName": "Mohamed Lifa",
      "userId": "01831654234949379749"
     },
     "user_tz": -60
    },
    "id": "ntvaK24q2lLP",
    "outputId": "5e0f72b5-cf10-4451-b0d3-f47a62eb2ad5"
   },
   "outputs": [
    {
     "data": {
      "text/plain": [
       "<seaborn.axisgrid.FacetGrid at 0x77dce41146e0>"
      ]
     },
     "execution_count": 76,
     "metadata": {},
     "output_type": "execute_result"
    },
    {
     "data": {
      "image/png": "[encoded data removed]",
      "text/plain": [
       "<Figure size 500x500 with 1 Axes>"
      ]
     },
     "metadata": {},
     "output_type": "display_data"
    }
   ],
   "source": [
    "sns.displot(df['horsepower'])"
   ]
  },
  {
   "cell_type": "markdown",
   "metadata": {
    "id": "CnNXsusW2pUp"
   },
   "source": [
    "\n",
    "The distribution for horsepower is also right skewed."
   ]
  },
  {
   "cell_type": "markdown",
   "metadata": {
    "id": "u46qpw1k2uyi"
   },
   "source": [
    "\n",
    "Let us look at how the variables are correlated with mpg. This can give us a rough idea on how mpg varies with each of the given variables."
   ]
  },
  {
   "cell_type": "code",
   "execution_count": 77,
   "metadata": {
    "colab": {
     "base_uri": "https://localhost:8080/"
    },
    "executionInfo": {
     "elapsed": 309,
     "status": "ok",
     "timestamp": 1731756214782,
     "user": {
      "displayName": "Mohamed Lifa",
      "userId": "01831654234949379749"
     },
     "user_tz": -60
    },
    "id": "5xlM38TJ2uaJ",
    "outputId": "c68f4281-0fd1-4cfb-c8dc-f24ef03f2faa"
   },
   "outputs": [
    {
     "name": "stdout",
     "output_type": "stream",
     "text": [
      "variables: ['cylinders', 'displacement', 'horsepower', 'weight', 'acceleration', 'model year', 'origin_1', 'origin_2', 'origin_3']\n",
      "\n",
      " {'cylinders': np.float64(-0.7753962854205542), 'displacement': np.float64(-0.804202824805898), 'horsepower': np.float64(-0.7734532045742156), 'weight': np.float64(-0.8317409332443352), 'acceleration': np.float64(0.42028891210165065), 'model year': np.float64(0.5792671330833096), 'origin_1': np.float64(-0.5681915400721657), 'origin_2': np.float64(0.25902216623858837), 'origin_3': np.float64(0.4421744578500838)}\n"
     ]
    }
   ],
   "source": [
    "col_names = df.columns.tolist()\n",
    "clist = col_names[1:10]\n",
    "print(\"variables:\", clist)\n",
    "cdict = {}\n",
    "\n",
    "for cname in clist:\n",
    "    cdict[cname] = np.float64(np.corrcoef(df['mpg'], df[cname])[0,1])\n",
    "print(\"\\n\", cdict)"
   ]
  },
  {
   "cell_type": "markdown",
   "metadata": {
    "id": "cyfxySaS4MTL"
   },
   "source": [
    "A visual approach to the same is using the heatmap function from seaborn. It can be done in the following way."
   ]
  },
  {
   "cell_type": "code",
   "execution_count": 91,
   "metadata": {
    "colab": {
     "base_uri": "https://localhost:8080/",
     "height": 532
    },
    "executionInfo": {
     "elapsed": 918,
     "status": "ok",
     "timestamp": 1731756215695,
     "user": {
      "displayName": "Mohamed Lifa",
      "userId": "01831654234949379749"
     },
     "user_tz": -60
    },
    "id": "DiQvtYg54O5-",
    "outputId": "e45c5e49-ffd0-444f-adbd-15aa489f3b6a"
   },
   "outputs": [
    {
     "data": {
      "text/plain": [
       "<Axes: >"
      ]
     },
     "execution_count": 91,
     "metadata": {},
     "output_type": "execute_result"
    },
    {
     "data": {
      "image/png": "[encoded data removed]",
      "text/plain": [
       "<Figure size 640x480 with 2 Axes>"
      ]
     },
     "metadata": {},
     "output_type": "display_data"
    }
   ],
   "source": [
    "corrmatrix = df.select_dtypes(include='number').corr()\n",
    "sns.heatmap(corrmatrix, square=True)"
   ]
  },
  {
   "cell_type": "markdown",
   "metadata": {
    "id": "FNTiGRLxTbvd"
   },
   "source": [
    "## 4. Regression Model and Analysis"
   ]
  },
  {
   "cell_type": "markdown",
   "metadata": {
    "id": "EJY5LVQWUnmK"
   },
   "source": [
    "\n",
    "\n",
    "So far we have done the necessary data manipulations and exploratory analysis on the data. Now we move to the more exciting part that is creating the regression model. We start with the Multiple Linear Regression Model. But before we fit the model, we need to segment the dataset into training and testing data.\n"
   ]
  },
  {
   "cell_type": "markdown",
   "metadata": {
    "id": "z0Z1BApQsXB1"
   },
   "source": [
    "Let's scale our dataset to see what happen?"
   ]
  },
  {
   "cell_type": "code",
   "execution_count": 79,
   "metadata": {
    "colab": {
     "base_uri": "https://localhost:8080/",
     "height": 206
    },
    "executionInfo": {
     "elapsed": 44,
     "status": "ok",
     "timestamp": 1731756215696,
     "user": {
      "displayName": "Mohamed Lifa",
      "userId": "01831654234949379749"
     },
     "user_tz": -60
    },
    "id": "fAKOutUEsV_P",
    "outputId": "02a52478-2c3e-4439-a325-b00184ac4aef"
   },
   "outputs": [
    {
     "data": {
      "text/html": [
       "<div>\n",
       "<style scoped>\n",
       "    .dataframe tbody tr th:only-of-type {\n",
       "        vertical-align: middle;\n",
       "    }\n",
       "\n",
       "    .dataframe tbody tr th {\n",
       "        vertical-align: top;\n",
       "    }\n",
       "\n",
       "    .dataframe thead th {\n",
       "        text-align: right;\n",
       "    }\n",
       "</style>\n",
       "<table border=\"1\" class=\"dataframe\">\n",
       "  <thead>\n",
       "    <tr style=\"text-align: right;\">\n",
       "      <th></th>\n",
       "      <th>mpg</th>\n",
       "      <th>cylinders</th>\n",
       "      <th>displacement</th>\n",
       "      <th>horsepower</th>\n",
       "      <th>weight</th>\n",
       "      <th>acceleration</th>\n",
       "      <th>model year</th>\n",
       "      <th>origin_1</th>\n",
       "      <th>origin_2</th>\n",
       "      <th>origin_3</th>\n",
       "    </tr>\n",
       "  </thead>\n",
       "  <tbody>\n",
       "    <tr>\n",
       "      <th>0</th>\n",
       "      <td>-0.706439</td>\n",
       "      <td>1.498191</td>\n",
       "      <td>1.090604</td>\n",
       "      <td>0.673118</td>\n",
       "      <td>0.630870</td>\n",
       "      <td>-1.295498</td>\n",
       "      <td>-1.627426</td>\n",
       "      <td>True</td>\n",
       "      <td>False</td>\n",
       "      <td>False</td>\n",
       "    </tr>\n",
       "    <tr>\n",
       "      <th>1</th>\n",
       "      <td>-1.090751</td>\n",
       "      <td>1.498191</td>\n",
       "      <td>1.503514</td>\n",
       "      <td>1.589958</td>\n",
       "      <td>0.854333</td>\n",
       "      <td>-1.477038</td>\n",
       "      <td>-1.627426</td>\n",
       "      <td>True</td>\n",
       "      <td>False</td>\n",
       "      <td>False</td>\n",
       "    </tr>\n",
       "    <tr>\n",
       "      <th>2</th>\n",
       "      <td>-0.706439</td>\n",
       "      <td>1.498191</td>\n",
       "      <td>1.196232</td>\n",
       "      <td>1.197027</td>\n",
       "      <td>0.550470</td>\n",
       "      <td>-1.658577</td>\n",
       "      <td>-1.627426</td>\n",
       "      <td>True</td>\n",
       "      <td>False</td>\n",
       "      <td>False</td>\n",
       "    </tr>\n",
       "    <tr>\n",
       "      <th>3</th>\n",
       "      <td>-0.962647</td>\n",
       "      <td>1.498191</td>\n",
       "      <td>1.061796</td>\n",
       "      <td>1.197027</td>\n",
       "      <td>0.546923</td>\n",
       "      <td>-1.295498</td>\n",
       "      <td>-1.627426</td>\n",
       "      <td>True</td>\n",
       "      <td>False</td>\n",
       "      <td>False</td>\n",
       "    </tr>\n",
       "    <tr>\n",
       "      <th>4</th>\n",
       "      <td>-0.834543</td>\n",
       "      <td>1.498191</td>\n",
       "      <td>1.042591</td>\n",
       "      <td>0.935072</td>\n",
       "      <td>0.565841</td>\n",
       "      <td>-1.840117</td>\n",
       "      <td>-1.627426</td>\n",
       "      <td>True</td>\n",
       "      <td>False</td>\n",
       "      <td>False</td>\n",
       "    </tr>\n",
       "  </tbody>\n",
       "</table>\n",
       "</div>"
      ],
      "text/plain": [
       "        mpg  cylinders  displacement  horsepower    weight  acceleration  \\\n",
       "0 -0.706439   1.498191      1.090604    0.673118  0.630870     -1.295498   \n",
       "1 -1.090751   1.498191      1.503514    1.589958  0.854333     -1.477038   \n",
       "2 -0.706439   1.498191      1.196232    1.197027  0.550470     -1.658577   \n",
       "3 -0.962647   1.498191      1.061796    1.197027  0.546923     -1.295498   \n",
       "4 -0.834543   1.498191      1.042591    0.935072  0.565841     -1.840117   \n",
       "\n",
       "   model year  origin_1  origin_2  origin_3  \n",
       "0   -1.627426      True     False     False  \n",
       "1   -1.627426      True     False     False  \n",
       "2   -1.627426      True     False     False  \n",
       "3   -1.627426      True     False     False  \n",
       "4   -1.627426      True     False     False  "
      ]
     },
     "execution_count": 79,
     "metadata": {},
     "output_type": "execute_result"
    }
   ],
   "source": [
    "scaler = StandardScaler()\n",
    "df_scaled_standard = df.copy()\n",
    "numeric_columns = df.select_dtypes(include=['float64', 'int64']).columns\n",
    "df_scaled_standard[numeric_columns] = scaler.fit_transform(df[numeric_columns])\n",
    "df_scaled_standard.head()"
   ]
  },
  {
   "cell_type": "code",
   "execution_count": 80,
   "metadata": {
    "executionInfo": {
     "elapsed": 317,
     "status": "ok",
     "timestamp": 1731756854879,
     "user": {
      "displayName": "Mohamed Lifa",
      "userId": "01831654234949379749"
     },
     "user_tz": -60
    },
    "id": "akf-rDguVAgr"
   },
   "outputs": [],
   "source": [
    "from sklearn.metrics import mean_squared_error\n",
    "features_list_m1 = ['cylinders', 'displacement', 'horsepower','weight', 'acceleration', 'model year', 'origin_1', 'origin_2', 'origin_3']\n",
    "X1 = df[features_list_m1]\n",
    "y1 = df['mpg']\n",
    "X1_train, X1_test, y1_train, y1_test = train_test_split(X1, y1, test_size=0.2, random_state=24)\n"
   ]
  },
  {
   "cell_type": "code",
   "execution_count": 81,
   "metadata": {
    "colab": {
     "base_uri": "https://localhost:8080/",
     "height": 80
    },
    "executionInfo": {
     "elapsed": 33,
     "status": "ok",
     "timestamp": 1731756215696,
     "user": {
      "displayName": "Mohamed Lifa",
      "userId": "01831654234949379749"
     },
     "user_tz": -60
    },
    "id": "bTJNgwq8Yw9F",
    "outputId": "4c2524f5-8d2b-4ca6-938e-f5e64da57cd7"
   },
   "outputs": [
    {
     "data": {
      "text/html": [
       "<style>#sk-container-id-3 {\n",
       "  /* Definition of color scheme common for light and dark mode */\n",
       "  --sklearn-color-text: black;\n",
       "  --sklearn-color-line: gray;\n",
       "  /* Definition of color scheme for unfitted estimators */\n",
       "  --sklearn-color-unfitted-level-0: #fff5e6;\n",
       "  --sklearn-color-unfitted-level-1: #f6e4d2;\n",
       "  --sklearn-color-unfitted-level-2: #ffe0b3;\n",
       "  --sklearn-color-unfitted-level-3: chocolate;\n",
       "  /* Definition of color scheme for fitted estimators */\n",
       "  --sklearn-color-fitted-level-0: #f0f8ff;\n",
       "  --sklearn-color-fitted-level-1: #d4ebff;\n",
       "  --sklearn-color-fitted-level-2: #b3dbfd;\n",
       "  --sklearn-color-fitted-level-3: cornflowerblue;\n",
       "\n",
       "  /* Specific color for light theme */\n",
       "  --sklearn-color-text-on-default-background: var(--sg-text-color, var(--theme-code-foreground, var(--jp-content-font-color1, black)));\n",
       "  --sklearn-color-background: var(--sg-background-color, var(--theme-background, var(--jp-layout-color0, white)));\n",
       "  --sklearn-color-border-box: var(--sg-text-color, var(--theme-code-foreground, var(--jp-content-font-color1, black)));\n",
       "  --sklearn-color-icon: #696969;\n",
       "\n",
       "  @media (prefers-color-scheme: dark) {\n",
       "    /* Redefinition of color scheme for dark theme */\n",
       "    --sklearn-color-text-on-default-background: var(--sg-text-color, var(--theme-code-foreground, var(--jp-content-font-color1, white)));\n",
       "    --sklearn-color-background: var(--sg-background-color, var(--theme-background, var(--jp-layout-color0, #111)));\n",
       "    --sklearn-color-border-box: var(--sg-text-color, var(--theme-code-foreground, var(--jp-content-font-color1, white)));\n",
       "    --sklearn-color-icon: #878787;\n",
       "  }\n",
       "}\n",
       "\n",
       "#sk-container-id-3 {\n",
       "  color: var(--sklearn-color-text);\n",
       "}\n",
       "\n",
       "#sk-container-id-3 pre {\n",
       "  padding: 0;\n",
       "}\n",
       "\n",
       "#sk-container-id-3 input.sk-hidden--visually {\n",
       "  border: 0;\n",
       "  clip: rect(1px 1px 1px 1px);\n",
       "  clip: rect(1px, 1px, 1px, 1px);\n",
       "  height: 1px;\n",
       "  margin: -1px;\n",
       "  overflow: hidden;\n",
       "  padding: 0;\n",
       "  position: absolute;\n",
       "  width: 1px;\n",
       "}\n",
       "\n",
       "#sk-container-id-3 div.sk-dashed-wrapped {\n",
       "  border: 1px dashed var(--sklearn-color-line);\n",
       "  margin: 0 0.4em 0.5em 0.4em;\n",
       "  box-sizing: border-box;\n",
       "  padding-bottom: 0.4em;\n",
       "  background-color: var(--sklearn-color-background);\n",
       "}\n",
       "\n",
       "#sk-container-id-3 div.sk-container {\n",
       "  /* jupyter's `normalize.less` sets `[hidden] { display: none; }`\n",
       "     but bootstrap.min.css set `[hidden] { display: none !important; }`\n",
       "     so we also need the `!important` here to be able to override the\n",
       "     default hidden behavior on the sphinx rendered scikit-learn.org.\n",
       "     See: https://github.com/scikit-learn/scikit-learn/issues/21755 */\n",
       "  display: inline-block !important;\n",
       "  position: relative;\n",
       "}\n",
       "\n",
       "#sk-container-id-3 div.sk-text-repr-fallback {\n",
       "  display: none;\n",
       "}\n",
       "\n",
       "div.sk-parallel-item,\n",
       "div.sk-serial,\n",
       "div.sk-item {\n",
       "  /* draw centered vertical line to link estimators */\n",
       "  background-image: linear-gradient(var(--sklearn-color-text-on-default-background), var(--sklearn-color-text-on-default-background));\n",
       "  background-size: 2px 100%;\n",
       "  background-repeat: no-repeat;\n",
       "  background-position: center center;\n",
       "}\n",
       "\n",
       "/* Parallel-specific style estimator block */\n",
       "\n",
       "#sk-container-id-3 div.sk-parallel-item::after {\n",
       "  content: \"\";\n",
       "  width: 100%;\n",
       "  border-bottom: 2px solid var(--sklearn-color-text-on-default-background);\n",
       "  flex-grow: 1;\n",
       "}\n",
       "\n",
       "#sk-container-id-3 div.sk-parallel {\n",
       "  display: flex;\n",
       "  align-items: stretch;\n",
       "  justify-content: center;\n",
       "  background-color: var(--sklearn-color-background);\n",
       "  position: relative;\n",
       "}\n",
       "\n",
       "#sk-container-id-3 div.sk-parallel-item {\n",
       "  display: flex;\n",
       "  flex-direction: column;\n",
       "}\n",
       "\n",
       "#sk-container-id-3 div.sk-parallel-item:first-child::after {\n",
       "  align-self: flex-end;\n",
       "  width: 50%;\n",
       "}\n",
       "\n",
       "#sk-container-id-3 div.sk-parallel-item:last-child::after {\n",
       "  align-self: flex-start;\n",
       "  width: 50%;\n",
       "}\n",
       "\n",
       "#sk-container-id-3 div.sk-parallel-item:only-child::after {\n",
       "  width: 0;\n",
       "}\n",
       "\n",
       "/* Serial-specific style estimator block */\n",
       "\n",
       "#sk-container-id-3 div.sk-serial {\n",
       "  display: flex;\n",
       "  flex-direction: column;\n",
       "  align-items: center;\n",
       "  background-color: var(--sklearn-color-background);\n",
       "  padding-right: 1em;\n",
       "  padding-left: 1em;\n",
       "}\n",
       "\n",
       "\n",
       "/* Toggleable style: style used for estimator/Pipeline/ColumnTransformer box that is\n",
       "clickable and can be expanded/collapsed.\n",
       "- Pipeline and ColumnTransformer use this feature and define the default style\n",
       "- Estimators will overwrite some part of the style using the `sk-estimator` class\n",
       "*/\n",
       "\n",
       "/* Pipeline and ColumnTransformer style (default) */\n",
       "\n",
       "#sk-container-id-3 div.sk-toggleable {\n",
       "  /* Default theme specific background. It is overwritten whether we have a\n",
       "  specific estimator or a Pipeline/ColumnTransformer */\n",
       "  background-color: var(--sklearn-color-background);\n",
       "}\n",
       "\n",
       "/* Toggleable label */\n",
       "#sk-container-id-3 label.sk-toggleable__label {\n",
       "  cursor: pointer;\n",
       "  display: block;\n",
       "  width: 100%;\n",
       "  margin-bottom: 0;\n",
       "  padding: 0.5em;\n",
       "  box-sizing: border-box;\n",
       "  text-align: center;\n",
       "}\n",
       "\n",
       "#sk-container-id-3 label.sk-toggleable__label-arrow:before {\n",
       "  /* Arrow on the left of the label */\n",
       "  content: \"▸\";\n",
       "  float: left;\n",
       "  margin-right: 0.25em;\n",
       "  color: var(--sklearn-color-icon);\n",
       "}\n",
       "\n",
       "#sk-container-id-3 label.sk-toggleable__label-arrow:hover:before {\n",
       "  color: var(--sklearn-color-text);\n",
       "}\n",
       "\n",
       "/* Toggleable content - dropdown */\n",
       "\n",
       "#sk-container-id-3 div.sk-toggleable__content {\n",
       "  max-height: 0;\n",
       "  max-width: 0;\n",
       "  overflow: hidden;\n",
       "  text-align: left;\n",
       "  /* unfitted */\n",
       "  background-color: var(--sklearn-color-unfitted-level-0);\n",
       "}\n",
       "\n",
       "#sk-container-id-3 div.sk-toggleable__content.fitted {\n",
       "  /* fitted */\n",
       "  background-color: var(--sklearn-color-fitted-level-0);\n",
       "}\n",
       "\n",
       "#sk-container-id-3 div.sk-toggleable__content pre {\n",
       "  margin: 0.2em;\n",
       "  border-radius: 0.25em;\n",
       "  color: var(--sklearn-color-text);\n",
       "  /* unfitted */\n",
       "  background-color: var(--sklearn-color-unfitted-level-0);\n",
       "}\n",
       "\n",
       "#sk-container-id-3 div.sk-toggleable__content.fitted pre {\n",
       "  /* unfitted */\n",
       "  background-color: var(--sklearn-color-fitted-level-0);\n",
       "}\n",
       "\n",
       "#sk-container-id-3 input.sk-toggleable__control:checked~div.sk-toggleable__content {\n",
       "  /* Expand drop-down */\n",
       "  max-height: 200px;\n",
       "  max-width: 100%;\n",
       "  overflow: auto;\n",
       "}\n",
       "\n",
       "#sk-container-id-3 input.sk-toggleable__control:checked~label.sk-toggleable__label-arrow:before {\n",
       "  content: \"▾\";\n",
       "}\n",
       "\n",
       "/* Pipeline/ColumnTransformer-specific style */\n",
       "\n",
       "#sk-container-id-3 div.sk-label input.sk-toggleable__control:checked~label.sk-toggleable__label {\n",
       "  color: var(--sklearn-color-text);\n",
       "  background-color: var(--sklearn-color-unfitted-level-2);\n",
       "}\n",
       "\n",
       "#sk-container-id-3 div.sk-label.fitted input.sk-toggleable__control:checked~label.sk-toggleable__label {\n",
       "  background-color: var(--sklearn-color-fitted-level-2);\n",
       "}\n",
       "\n",
       "/* Estimator-specific style */\n",
       "\n",
       "/* Colorize estimator box */\n",
       "#sk-container-id-3 div.sk-estimator input.sk-toggleable__control:checked~label.sk-toggleable__label {\n",
       "  /* unfitted */\n",
       "  background-color: var(--sklearn-color-unfitted-level-2);\n",
       "}\n",
       "\n",
       "#sk-container-id-3 div.sk-estimator.fitted input.sk-toggleable__control:checked~label.sk-toggleable__label {\n",
       "  /* fitted */\n",
       "  background-color: var(--sklearn-color-fitted-level-2);\n",
       "}\n",
       "\n",
       "#sk-container-id-3 div.sk-label label.sk-toggleable__label,\n",
       "#sk-container-id-3 div.sk-label label {\n",
       "  /* The background is the default theme color */\n",
       "  color: var(--sklearn-color-text-on-default-background);\n",
       "}\n",
       "\n",
       "/* On hover, darken the color of the background */\n",
       "#sk-container-id-3 div.sk-label:hover label.sk-toggleable__label {\n",
       "  color: var(--sklearn-color-text);\n",
       "  background-color: var(--sklearn-color-unfitted-level-2);\n",
       "}\n",
       "\n",
       "/* Label box, darken color on hover, fitted */\n",
       "#sk-container-id-3 div.sk-label.fitted:hover label.sk-toggleable__label.fitted {\n",
       "  color: var(--sklearn-color-text);\n",
       "  background-color: var(--sklearn-color-fitted-level-2);\n",
       "}\n",
       "\n",
       "/* Estimator label */\n",
       "\n",
       "#sk-container-id-3 div.sk-label label {\n",
       "  font-family: monospace;\n",
       "  font-weight: bold;\n",
       "  display: inline-block;\n",
       "  line-height: 1.2em;\n",
       "}\n",
       "\n",
       "#sk-container-id-3 div.sk-label-container {\n",
       "  text-align: center;\n",
       "}\n",
       "\n",
       "/* Estimator-specific */\n",
       "#sk-container-id-3 div.sk-estimator {\n",
       "  font-family: monospace;\n",
       "  border: 1px dotted var(--sklearn-color-border-box);\n",
       "  border-radius: 0.25em;\n",
       "  box-sizing: border-box;\n",
       "  margin-bottom: 0.5em;\n",
       "  /* unfitted */\n",
       "  background-color: var(--sklearn-color-unfitted-level-0);\n",
       "}\n",
       "\n",
       "#sk-container-id-3 div.sk-estimator.fitted {\n",
       "  /* fitted */\n",
       "  background-color: var(--sklearn-color-fitted-level-0);\n",
       "}\n",
       "\n",
       "/* on hover */\n",
       "#sk-container-id-3 div.sk-estimator:hover {\n",
       "  /* unfitted */\n",
       "  background-color: var(--sklearn-color-unfitted-level-2);\n",
       "}\n",
       "\n",
       "#sk-container-id-3 div.sk-estimator.fitted:hover {\n",
       "  /* fitted */\n",
       "  background-color: var(--sklearn-color-fitted-level-2);\n",
       "}\n",
       "\n",
       "/* Specification for estimator info (e.g. \"i\" and \"?\") */\n",
       "\n",
       "/* Common style for \"i\" and \"?\" */\n",
       "\n",
       ".sk-estimator-doc-link,\n",
       "a:link.sk-estimator-doc-link,\n",
       "a:visited.sk-estimator-doc-link {\n",
       "  float: right;\n",
       "  font-size: smaller;\n",
       "  line-height: 1em;\n",
       "  font-family: monospace;\n",
       "  background-color: var(--sklearn-color-background);\n",
       "  border-radius: 1em;\n",
       "  height: 1em;\n",
       "  width: 1em;\n",
       "  text-decoration: none !important;\n",
       "  margin-left: 1ex;\n",
       "  /* unfitted */\n",
       "  border: var(--sklearn-color-unfitted-level-1) 1pt solid;\n",
       "  color: var(--sklearn-color-unfitted-level-1);\n",
       "}\n",
       "\n",
       ".sk-estimator-doc-link.fitted,\n",
       "a:link.sk-estimator-doc-link.fitted,\n",
       "a:visited.sk-estimator-doc-link.fitted {\n",
       "  /* fitted */\n",
       "  border: var(--sklearn-color-fitted-level-1) 1pt solid;\n",
       "  color: var(--sklearn-color-fitted-level-1);\n",
       "}\n",
       "\n",
       "/* On hover */\n",
       "div.sk-estimator:hover .sk-estimator-doc-link:hover,\n",
       ".sk-estimator-doc-link:hover,\n",
       "div.sk-label-container:hover .sk-estimator-doc-link:hover,\n",
       ".sk-estimator-doc-link:hover {\n",
       "  /* unfitted */\n",
       "  background-color: var(--sklearn-color-unfitted-level-3);\n",
       "  color: var(--sklearn-color-background);\n",
       "  text-decoration: none;\n",
       "}\n",
       "\n",
       "div.sk-estimator.fitted:hover .sk-estimator-doc-link.fitted:hover,\n",
       ".sk-estimator-doc-link.fitted:hover,\n",
       "div.sk-label-container:hover .sk-estimator-doc-link.fitted:hover,\n",
       ".sk-estimator-doc-link.fitted:hover {\n",
       "  /* fitted */\n",
       "  background-color: var(--sklearn-color-fitted-level-3);\n",
       "  color: var(--sklearn-color-background);\n",
       "  text-decoration: none;\n",
       "}\n",
       "\n",
       "/* Span, style for the box shown on hovering the info icon */\n",
       ".sk-estimator-doc-link span {\n",
       "  display: none;\n",
       "  z-index: 9999;\n",
       "  position: relative;\n",
       "  font-weight: normal;\n",
       "  right: .2ex;\n",
       "  padding: .5ex;\n",
       "  margin: .5ex;\n",
       "  width: min-content;\n",
       "  min-width: 20ex;\n",
       "  max-width: 50ex;\n",
       "  color: var(--sklearn-color-text);\n",
       "  box-shadow: 2pt 2pt 4pt #999;\n",
       "  /* unfitted */\n",
       "  background: var(--sklearn-color-unfitted-level-0);\n",
       "  border: .5pt solid var(--sklearn-color-unfitted-level-3);\n",
       "}\n",
       "\n",
       ".sk-estimator-doc-link.fitted span {\n",
       "  /* fitted */\n",
       "  background: var(--sklearn-color-fitted-level-0);\n",
       "  border: var(--sklearn-color-fitted-level-3);\n",
       "}\n",
       "\n",
       ".sk-estimator-doc-link:hover span {\n",
       "  display: block;\n",
       "}\n",
       "\n",
       "/* \"?\"-specific style due to the `<a>` HTML tag */\n",
       "\n",
       "#sk-container-id-3 a.estimator_doc_link {\n",
       "  float: right;\n",
       "  font-size: 1rem;\n",
       "  line-height: 1em;\n",
       "  font-family: monospace;\n",
       "  background-color: var(--sklearn-color-background);\n",
       "  border-radius: 1rem;\n",
       "  height: 1rem;\n",
       "  width: 1rem;\n",
       "  text-decoration: none;\n",
       "  /* unfitted */\n",
       "  color: var(--sklearn-color-unfitted-level-1);\n",
       "  border: var(--sklearn-color-unfitted-level-1) 1pt solid;\n",
       "}\n",
       "\n",
       "#sk-container-id-3 a.estimator_doc_link.fitted {\n",
       "  /* fitted */\n",
       "  border: var(--sklearn-color-fitted-level-1) 1pt solid;\n",
       "  color: var(--sklearn-color-fitted-level-1);\n",
       "}\n",
       "\n",
       "/* On hover */\n",
       "#sk-container-id-3 a.estimator_doc_link:hover {\n",
       "  /* unfitted */\n",
       "  background-color: var(--sklearn-color-unfitted-level-3);\n",
       "  color: var(--sklearn-color-background);\n",
       "  text-decoration: none;\n",
       "}\n",
       "\n",
       "#sk-container-id-3 a.estimator_doc_link.fitted:hover {\n",
       "  /* fitted */\n",
       "  background-color: var(--sklearn-color-fitted-level-3);\n",
       "}\n",
       "</style><div id=\"sk-container-id-3\" class=\"sk-top-container\"><div class=\"sk-text-repr-fallback\"><pre>LinearRegression()</pre><b>In a Jupyter environment, please rerun this cell to show the HTML representation or trust the notebook. <br />On GitHub, the HTML representation is unable to render, please try loading this page with nbviewer.org.</b></div><div class=\"sk-container\" hidden><div class=\"sk-item\"><div class=\"sk-estimator fitted sk-toggleable\"><input class=\"sk-toggleable__control sk-hidden--visually\" id=\"sk-estimator-id-3\" type=\"checkbox\" checked><label for=\"sk-estimator-id-3\" class=\"sk-toggleable__label fitted sk-toggleable__label-arrow fitted\">&nbsp;&nbsp;LinearRegression<a class=\"sk-estimator-doc-link fitted\" rel=\"noreferrer\" target=\"_blank\" href=\"https://scikit-learn.org/1.5/modules/generated/sklearn.linear_model.LinearRegression.html\">?<span>Documentation for LinearRegression</span></a><span class=\"sk-estimator-doc-link fitted\">i<span>Fitted</span></span></label><div class=\"sk-toggleable__content fitted\"><pre>LinearRegression()</pre></div> </div></div></div></div>"
      ],
      "text/plain": [
       "LinearRegression()"
      ]
     },
     "execution_count": 81,
     "metadata": {},
     "output_type": "execute_result"
    }
   ],
   "source": [
    "regr1 = linear_model.LinearRegression()\n",
    "regr1.fit(X1_train, y1_train)"
   ]
  },
  {
   "cell_type": "markdown",
   "metadata": {
    "id": "5PYaIe72ZEUF"
   },
   "source": [
    "\\\n",
    "Now that the model is ready, we can use it to predict the values of mpg."
   ]
  },
  {
   "cell_type": "code",
   "execution_count": 82,
   "metadata": {
    "executionInfo": {
     "elapsed": 31,
     "status": "ok",
     "timestamp": 1731756215697,
     "user": {
      "displayName": "Mohamed Lifa",
      "userId": "01831654234949379749"
     },
     "user_tz": -60
    },
    "id": "pP1T9M4rZF9H"
   },
   "outputs": [],
   "source": [
    "predicted_values_m1 = regr1.predict(X1_test)"
   ]
  },
  {
   "cell_type": "code",
   "execution_count": 83,
   "metadata": {
    "colab": {
     "base_uri": "https://localhost:8080/"
    },
    "executionInfo": {
     "elapsed": 30,
     "status": "ok",
     "timestamp": 1731756215697,
     "user": {
      "displayName": "Mohamed Lifa",
      "userId": "01831654234949379749"
     },
     "user_tz": -60
    },
    "id": "pPFzsj_iZKHd",
    "outputId": "a0dd0a9b-b3b3-455e-9bd1-2dd709d466ad"
   },
   "outputs": [
    {
     "name": "stdout",
     "output_type": "stream",
     "text": [
      "0.7845838120827001\n"
     ]
    }
   ],
   "source": [
    "residuals = y1_test - predicted_values_m1\n",
    "print(r2_score(y1_test, predicted_values_m1))"
   ]
  },
  {
   "cell_type": "markdown",
   "metadata": {
    "id": "h7fSpS7Nb7e3"
   },
   "source": [
    "The accuracy of our regression model is 0.78`(before hot encoding was 0.77)`. This is the R-Squared value. However, for multiple regression Adjusted R Square is a much better estimator.\n",
    "\n",
    "The R Square value suffers from curse of dimensionality. As we keep on adding more independent variables, the accuracy is bound to increase!\n",
    "\n",
    "how we calculate the R-Squared:\n",
    "  $$R^2 = 1 - \\left(\\frac{SS_{\\text{residual}}}{SS_{\\text{total}}}\\right)$$\n",
    "\n",
    "- $SS\\text{residual}$: Residual sum of squares (unexplained variance), calculated as:\n",
    "  $$SS_{\\text{residual}} = \\sum_{i=1}^n (y_i - \\hat{y}_i)^2\n",
    "$$\n",
    "Where $y_i$ is the actual value, and $\\hat{y}_i$ is the predicted value.\n",
    "\n",
    "- $SS\\text{total}$: Total sum of squares (unexplained variance), calculated as:\n",
    "  $$SS_{\\text{total}} = \\sum_{i=1}^n (y_i - \\bar{y})^2\n",
    "$$\n",
    "Where $\\bar{y}$ is the actual value.\n",
    "\n",
    "**Key Idea**:\n",
    "- $R² = 1$: Perfect fit (the model explains all the variance).\n",
    "- $R² = 0$: The model explains none of the variance (as good as using the mean).\n",
    "\n"
   ]
  },
  {
   "cell_type": "markdown",
   "metadata": {
    "id": "t3lwdI44AJnp"
   },
   "source": [
    "Thus, we calculate Adjusted R Squared as follows:\n",
    "\n",
    "  $$\n",
    "  R^2_{\\text{adj}} = 1 - \\left[ \\frac{(1 - R^2) \\cdot (n - 1)}{n - k - 1} \\right]\n",
    "  $$\n",
    "  - $R^2$: The R-squared value.\n",
    "  - $n$: Number of observations (data points).\n",
    "  - $k$: Number of independent variables (features) in the model.\n",
    "\n",
    "**key Idea**\n",
    "  - $R^2_{\\text{adj}} \\leq R^2$: Adjusted R-squared will always be less than or equal to $R²$.\n",
    "  - It increases only when the added feature improves the model's performance beyond what would be expected by chance.\n",
    "\n"
   ]
  },
  {
   "cell_type": "code",
   "execution_count": 84,
   "metadata": {
    "colab": {
     "base_uri": "https://localhost:8080/"
    },
    "executionInfo": {
     "elapsed": 26,
     "status": "ok",
     "timestamp": 1731756215698,
     "user": {
      "displayName": "Mohamed Lifa",
      "userId": "01831654234949379749"
     },
     "user_tz": -60
    },
    "id": "NZeT2scWcOvx",
    "outputId": "9007c154-bb91-4ae7-8185-4b2247646eb6"
   },
   "outputs": [
    {
     "name": "stdout",
     "output_type": "stream",
     "text": [
      "0.7568874450647616\n"
     ]
    }
   ],
   "source": [
    "r_squared = r2_score(y1_test, predicted_values_m1)\n",
    "adjusted_r = 1 - (1 - r_squared) * (len(y1_test) - 1) / (len(y1_test) - len(regr1.coef_) - 1)\n",
    "\n",
    "print(adjusted_r)"
   ]
  },
  {
   "cell_type": "markdown",
   "metadata": {
    "id": "xapPP7kHdElW"
   },
   "source": [
    "\n",
    "Our model has an accuracy of 0.7568`(before hot encoding was 0.7869)`. This implies it is able to explain 75.68% of all the observations in the dataset. This is a good result."
   ]
  },
  {
   "cell_type": "code",
   "execution_count": 85,
   "metadata": {
    "colab": {
     "base_uri": "https://localhost:8080/"
    },
    "executionInfo": {
     "elapsed": 402,
     "status": "ok",
     "timestamp": 1731756846500,
     "user": {
      "displayName": "Mohamed Lifa",
      "userId": "01831654234949379749"
     },
     "user_tz": -60
    },
    "id": "oQY6l5hLIoP2",
    "outputId": "1447421e-3654-4434-d176-772b0d4d7af2"
   },
   "outputs": [
    {
     "name": "stdout",
     "output_type": "stream",
     "text": [
      "RMSE:  3.746691635072215\n"
     ]
    }
   ],
   "source": [
    "m1_rmse = np.sqrt(mean_squared_error(y1_test, predicted_values_m1))\n",
    "print(\"RMSE: \",m1_rmse)"
   ]
  },
  {
   "cell_type": "markdown",
   "metadata": {
    "id": "LbUcIM3dIyex"
   },
   "source": [
    "Thus, the predicted and observed values differ by 3.74"
   ]
  },
  {
   "cell_type": "markdown",
   "metadata": {
    "id": "LZZSBasuI3PC"
   },
   "source": [
    "\n",
    "## 5. Random Forests\n",
    "\n",
    "A better model for predictions is to use Random Forests."
   ]
  },
  {
   "cell_type": "code",
   "execution_count": null,
   "metadata": {
    "colab": {
     "base_uri": "https://localhost:8080/"
    },
    "executionInfo": {
     "elapsed": 298,
     "status": "ok",
     "timestamp": 1731756216723,
     "user": {
      "displayName": "Mohamed Lifa",
      "userId": "01831654234949379749"
     },
     "user_tz": -60
    },
    "id": "IK9FNVfgJZnu",
    "outputId": "a68e30f6-3f64-480f-bfb3-2c00775f44a8"
   },
   "outputs": [
    {
     "name": "stdout",
     "output_type": "stream",
     "text": [
      "Training accuracy:  0.9815550247730495\n",
      "Testing accuracy:  0.8764804248338554\n",
      "RMSE:  2.8371132842204267\n"
     ]
    }
   ],
   "source": [
    "from sklearn.ensemble import RandomForestRegressor\n",
    "\n",
    "forest_reg = RandomForestRegressor(random_state=12)\n",
    "forest_reg.fit(X1_train, y1_train)\n",
    "\n",
    "y_pred = forest_reg.predict(X1_test)\n",
    "\n",
    "print(\"Testing accuracy: \", forest_reg.score(X1_test, y1_test))\n",
    "\n",
    "forest_rmse = np.sqrt(mean_squared_error(y_pred, y1_test))\n",
    "print(\"RMSE: \",forest_rmse)"
   ]
  },
  {
   "cell_type": "markdown",
   "metadata": {
    "id": "2tmEJR5XJpT2"
   },
   "source": [
    "By using Random Forests, the **accuracy** increases from **78.69%** to **87.64%**. This is a significant improvement on our Multiple Regression Model. Additionally, the **RMSE** also decreases from **3.74** to **2.83**"
   ]
  }
 ],
 "metadata": {
  "colab": {
   "authorship_tag": "ABX9TyO5IFaJ73geayvJl+YpAGTw",
   "provenance": []
  },
  "kernelspec": {
   "display_name": "ml-venv",
   "language": "python",
   "name": "python3"
  },
  "language_info": {
   "codemirror_mode": {
    "name": "ipython",
    "version": 3
   },
   "file_extension": ".py",
   "mimetype": "text/x-python",
   "name": "python",
   "nbconvert_exporter": "python",
   "pygments_lexer": "ipython3",
   "version": "3.12.7"
  }
 },
 "nbformat": 4,
 "nbformat_minor": 0
}
